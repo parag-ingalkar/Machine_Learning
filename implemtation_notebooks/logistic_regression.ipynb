{
 "cells": [
  {
   "cell_type": "code",
   "execution_count": 81,
   "id": "e3be3d18",
   "metadata": {},
   "outputs": [],
   "source": [
    "import numpy as np"
   ]
  },
  {
   "cell_type": "code",
   "execution_count": 108,
   "id": "e9bffc52",
   "metadata": {},
   "outputs": [],
   "source": [
    "def sigmoid(z):\n",
    "    return 1 / (1 + np.exp(-z))"
   ]
  },
  {
   "cell_type": "code",
   "execution_count": 109,
   "id": "c5928862",
   "metadata": {},
   "outputs": [],
   "source": [
    "def calculate_gradient(theta, X, y):\n",
    "    m = y.size      # number of instances\n",
    "    return (X.T @ (sigmoid(X @ theta) - y)) / m"
   ]
  },
  {
   "cell_type": "code",
   "execution_count": 110,
   "id": "521dcd24",
   "metadata": {},
   "outputs": [],
   "source": [
    "def gradient_descent(X, y, lr = 0.01, epochs = 1000):\n",
    "    X_b = np.c_[np.ones((X.shape[0], 1)), X]\n",
    "\n",
    "    theta = np.zeros(X_b.shape[1])\n",
    "\n",
    "    for i in range(epochs):\n",
    "        grad = calculate_gradient(theta, X_b, y)\n",
    "        theta -= lr * grad\n",
    "\n",
    "    return theta"
   ]
  },
  {
   "cell_type": "code",
   "execution_count": 111,
   "id": "007f1bf9",
   "metadata": {},
   "outputs": [],
   "source": [
    "def predict_proba(X, theta):\n",
    "    X_b = np.c_[np.ones((X.shape[0], 1)), X]\n",
    "    return sigmoid(X_b @ theta)"
   ]
  },
  {
   "cell_type": "code",
   "execution_count": 112,
   "id": "621d2201",
   "metadata": {},
   "outputs": [],
   "source": [
    "def predtict(X, theta, threshold = 0.5):\n",
    "    return (predict_proba(X, theta) >= threshold).astype(int)"
   ]
  },
  {
   "cell_type": "code",
   "execution_count": 113,
   "id": "8af57c2a",
   "metadata": {},
   "outputs": [],
   "source": [
    "from sklearn.datasets import load_breast_cancer\n",
    "from sklearn.preprocessing import StandardScaler\n",
    "from sklearn.model_selection import train_test_split\n",
    "from sklearn.metrics import accuracy_score, confusion_matrix"
   ]
  },
  {
   "cell_type": "code",
   "execution_count": 114,
   "id": "6ba22fd4",
   "metadata": {},
   "outputs": [],
   "source": [
    "X, y = load_breast_cancer(return_X_y=True)\n",
    "X_train, X_test, y_train, y_test = train_test_split(X, y, test_size = 0.2, random_state=0)\n",
    "\n",
    "scaler = StandardScaler()\n",
    "\n",
    "X_train_s = scaler.fit_transform(X_train)\n",
    "X_test_s = scaler.transform(X_test)"
   ]
  },
  {
   "cell_type": "code",
   "execution_count": 115,
   "id": "ca6fedb9",
   "metadata": {},
   "outputs": [],
   "source": [
    "theta_hat = gradient_descent(X_train_s, y_train)"
   ]
  },
  {
   "cell_type": "code",
   "execution_count": 116,
   "id": "0ae26417",
   "metadata": {},
   "outputs": [],
   "source": [
    "y_train_pred = predtict(X_train_s, theta_hat)\n",
    "y_test_pred = predtict(X_test_s, theta_hat)"
   ]
  },
  {
   "cell_type": "code",
   "execution_count": 117,
   "id": "7f1178dd",
   "metadata": {},
   "outputs": [
    {
     "name": "stdout",
     "output_type": "stream",
     "text": [
      "Training Accuracy = 0.978021978021978\n",
      "Training Confusion Matrix = \n",
      "[[157   8]\n",
      " [  2 288]]\n"
     ]
    }
   ],
   "source": [
    "train_accuracy = accuracy_score(y_train, y_train_pred)\n",
    "train_confusion_matrix = confusion_matrix(y_train, y_train_pred)\n",
    "print(f\"Training Accuracy = {train_accuracy}\")\n",
    "print(f\"Training Confusion Matrix = \\n{train_confusion_matrix}\")"
   ]
  },
  {
   "cell_type": "code",
   "execution_count": 118,
   "id": "ef18073a",
   "metadata": {},
   "outputs": [
    {
     "name": "stdout",
     "output_type": "stream",
     "text": [
      "Testing Accuracy = 0.9649122807017544\n",
      "Testing Confusion Matrix = \n",
      "[[45  2]\n",
      " [ 2 65]]\n"
     ]
    }
   ],
   "source": [
    "test_accuracy = accuracy_score(y_test, y_test_pred)\n",
    "test_confusion_matrix = confusion_matrix(y_test, y_test_pred)\n",
    "print(f\"Testing Accuracy = {test_accuracy}\")\n",
    "print(f\"Testing Confusion Matrix = \\n{test_confusion_matrix}\")"
   ]
  },
  {
   "cell_type": "code",
   "execution_count": null,
   "id": "d6c0ebd1",
   "metadata": {},
   "outputs": [],
   "source": []
  }
 ],
 "metadata": {
  "kernelspec": {
   "display_name": ".venv",
   "language": "python",
   "name": "python3"
  },
  "language_info": {
   "codemirror_mode": {
    "name": "ipython",
    "version": 3
   },
   "file_extension": ".py",
   "mimetype": "text/x-python",
   "name": "python",
   "nbconvert_exporter": "python",
   "pygments_lexer": "ipython3",
   "version": "3.10.18"
  }
 },
 "nbformat": 4,
 "nbformat_minor": 5
}
