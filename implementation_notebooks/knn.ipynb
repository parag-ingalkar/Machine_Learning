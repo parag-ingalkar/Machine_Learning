{
 "cells": [
  {
   "cell_type": "code",
   "execution_count": 1,
   "id": "30674422-d560-4322-937e-95a89368803f",
   "metadata": {},
   "outputs": [],
   "source": [
    "import numpy as np\n",
    "import matplotlib.pyplot as plt\n",
    "from collections import Counter"
   ]
  },
  {
   "cell_type": "code",
   "execution_count": 32,
   "id": "f41bdfc4-e859-45b4-99f9-19447b37d6e3",
   "metadata": {},
   "outputs": [],
   "source": [
    "points = {'blue': [[2,4],[1,3],[2,3],[3,2],[2,1]],\n",
    "         'red': [[5,6],[4,5],[4,6],[6,6],[5,4]]}\n",
    "\n",
    "new_point = [3,5]"
   ]
  },
  {
   "cell_type": "code",
   "execution_count": 33,
   "id": "cfa11369-cc8e-4e57-a0d1-aec8c6baa1fd",
   "metadata": {},
   "outputs": [],
   "source": [
    "def euclidean_distance(p, q):\n",
    "    return np.sqrt(np.sum((np.array(p) - np.array(q))**2))"
   ]
  },
  {
   "cell_type": "code",
   "execution_count": 34,
   "id": "276afd63-d177-441c-857c-8af68c870e79",
   "metadata": {},
   "outputs": [],
   "source": [
    "k = 3\n",
    "distances = []"
   ]
  },
  {
   "cell_type": "code",
   "execution_count": 35,
   "id": "d0dbbe08-c9d3-4f19-a341-e2ba6484061f",
   "metadata": {},
   "outputs": [],
   "source": [
    "for category in points:\n",
    "    for point in points[category]:\n",
    "        distance = euclidean_distance(point, new_point)\n",
    "        distances.append([distance, category])"
   ]
  },
  {
   "cell_type": "code",
   "execution_count": 36,
   "id": "29ab2515-3db8-41ce-bae8-177804dfc6f0",
   "metadata": {},
   "outputs": [],
   "source": [
    "categories = [category[1] for category in sorted(distances)[:k]]"
   ]
  },
  {
   "cell_type": "code",
   "execution_count": 37,
   "id": "24123097-cf90-4d01-afd2-e08ec94e2f76",
   "metadata": {},
   "outputs": [],
   "source": [
    "result = Counter(categories).most_common(1)[0][0]"
   ]
  },
  {
   "cell_type": "code",
   "execution_count": 38,
   "id": "cc224523-95d8-4ba7-bb4f-8d0562613441",
   "metadata": {},
   "outputs": [
    {
     "data": {
      "image/png": "[encoded data removed]",
      "text/plain": [
       "<Figure size 640x480 with 1 Axes>"
      ]
     },
     "metadata": {},
     "output_type": "display_data"
    }
   ],
   "source": [
    "ax = plt.subplot()\n",
    "ax.tick_params(axis='x', color='black')\n",
    "ax.tick_params(axis='y', color='black')\n",
    "\n",
    "for point in points['blue']:\n",
    "    ax.scatter(point[0], point[1], color='blue', s=50)\n",
    "\n",
    "for point in points['red']:\n",
    "    ax.scatter(point[0], point[1], color='red', s=50)\n",
    "\n",
    "ax.scatter(new_point[0], new_point[1], color=result, s=50, marker='*')\n",
    "\n",
    "plt.show()"
   ]
  },
  {
   "cell_type": "code",
   "execution_count": null,
   "id": "fba754ab-594b-4eb4-9428-781643b810a3",
   "metadata": {},
   "outputs": [],
   "source": []
  }
 ],
 "metadata": {
  "kernelspec": {
   "display_name": "Python (my_ml_env)",
   "language": "python",
   "name": "venv"
  },
  "language_info": {
   "codemirror_mode": {
    "name": "ipython",
    "version": 3
   },
   "file_extension": ".py",
   "mimetype": "text/x-python",
   "name": "python",
   "nbconvert_exporter": "python",
   "pygments_lexer": "ipython3",
   "version": "3.10.15"
  }
 },
 "nbformat": 4,
 "nbformat_minor": 5
}
